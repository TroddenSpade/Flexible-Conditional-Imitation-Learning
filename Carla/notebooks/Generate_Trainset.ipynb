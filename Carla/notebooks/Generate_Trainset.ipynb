{
  "nbformat": 4,
  "nbformat_minor": 0,
  "metadata": {
    "colab": {
      "name": "Generate Trainset.ipynb",
      "provenance": [],
      "collapsed_sections": []
    },
    "kernelspec": {
      "name": "python3",
      "display_name": "Python 3"
    },
    "language_info": {
      "name": "python"
    }
  },
  "cells": [
    {
      "cell_type": "code",
      "source": [
        "import os\n",
        "import shutil\n",
        "import zipfile\n",
        "from PIL import Image\n",
        "from distutils.dir_util import copy_tree\n",
        "from tqdm import tqdm\n",
        "\n",
        "import pandas as pd\n",
        "import tensorflow as tf\n",
        "import numpy as np"
      ],
      "metadata": {
        "id": "1QDjSdiFs5nF"
      },
      "execution_count": 1,
      "outputs": []
    },
    {
      "cell_type": "code",
      "source": [
        "!cp -r /content/drive/Shareddrives/Sam/Datasets/Carla ./"
      ],
      "metadata": {
        "id": "JyDZI91At6uE"
      },
      "execution_count": 2,
      "outputs": []
    },
    {
      "cell_type": "code",
      "source": [
        "SRC = './Carla'\n",
        "DEST = './CarlaDS'\n",
        "IMAGE_SHAPE = (88, 200 , 3)"
      ],
      "metadata": {
        "id": "AM1D_R7DAgQc"
      },
      "execution_count": 3,
      "outputs": []
    },
    {
      "cell_type": "code",
      "execution_count": 4,
      "metadata": {
        "id": "AVAQRnHFZeIM"
      },
      "outputs": [],
      "source": [
        "extension = \".zip\"\n",
        "\n",
        "for item in os.listdir(SRC):\n",
        "    if item.endswith(extension):\n",
        "        file_name = os.path.join(SRC, item)\n",
        "        zip_ref = zipfile.ZipFile(file_name)\n",
        "        zip_ref.extractall(SRC)\n",
        "        zip_ref.close()\n",
        "        os.remove(file_name)"
      ]
    },
    {
      "cell_type": "code",
      "source": [
        "folders = os.listdir(SRC)"
      ],
      "metadata": {
        "id": "05MknjdaAwZT"
      },
      "execution_count": 5,
      "outputs": []
    },
    {
      "cell_type": "code",
      "source": [
        "images_dir = os.path.join(SRC, 'images')\n",
        "os.mkdir(images_dir, 0o777)"
      ],
      "metadata": {
        "id": "g7KUU7M_v6YK"
      },
      "execution_count": 6,
      "outputs": []
    },
    {
      "cell_type": "code",
      "source": [
        "csv = os.path.join(SRC, folders[0], 'data.csv')\n",
        "pd.read_csv(csv)"
      ],
      "metadata": {
        "colab": {
          "base_uri": "https://localhost:8080/",
          "height": 641
        },
        "id": "95jfSzv6VsYr",
        "outputId": "839de840-ebb9-465f-91bb-9106c251677d"
      },
      "execution_count": 10,
      "outputs": [
        {
          "output_type": "execute_result",
          "data": {
            "text/plain": [
              "                       image_name     steer  throttle  brake     speed  \\\n",
              "0     2022-03-23_16-52-23_114.jpg  0.000000  0.000000    0.0  0.000000   \n",
              "1     2022-03-23_16-52-23_115.jpg  0.000000  0.000000    0.0  0.000000   \n",
              "2     2022-03-23_16-52-23_116.jpg  0.000000  0.000000    0.0  0.000000   \n",
              "3     2022-03-23_16-52-23_117.jpg  0.077474  0.850000    0.0  0.001634   \n",
              "4     2022-03-23_16-52-23_118.jpg  0.077474  0.850000    0.0  0.000302   \n",
              "..                            ...       ...       ...    ...       ...   \n",
              "989  2022-03-23_16-52-23_1103.jpg -0.000622  0.808007    0.0  7.097985   \n",
              "990  2022-03-23_16-52-23_1104.jpg -0.000622  0.808007    0.0  7.353311   \n",
              "991  2022-03-23_16-52-23_1105.jpg -0.000622  0.808007    0.0  7.594528   \n",
              "992  2022-03-23_16-52-23_1106.jpg  0.019869  0.000000    0.7  7.821633   \n",
              "993  2022-03-23_16-52-23_1107.jpg  0.019869  0.000000    0.7  7.823108   \n",
              "\n",
              "            x           y         z        yaw  speed_limit  is_traffic_light  \\\n",
              "0   -3.680001  270.729950  0.221564 -89.999817         30.0             False   \n",
              "1   -3.680001  270.729950  0.221564 -89.999817         30.0             False   \n",
              "2   -3.680001  270.729950  0.221564 -89.999817         30.0             False   \n",
              "3   -3.680001  270.729950  0.221467 -89.999817         30.0             False   \n",
              "4   -3.680001  270.729950  0.221424 -89.999817         30.0             False   \n",
              "..        ...         ...       ...        ...          ...               ...   \n",
              "989 -3.449877  204.181442  0.221513 -90.016182         30.0             False   \n",
              "990 -3.450036  203.885040  0.221497 -90.020142         30.0             False   \n",
              "991 -3.450235  203.556229  0.221479 -90.024406         30.0             False   \n",
              "992 -3.447557  202.913574  0.221503 -89.882812         30.0             False   \n",
              "993 -3.444577  202.559921  0.221560 -89.757561         30.0             False   \n",
              "\n",
              "     traffic_light_state  \n",
              "0                      2  \n",
              "1                      2  \n",
              "2                      2  \n",
              "3                      2  \n",
              "4                      2  \n",
              "..                   ...  \n",
              "989                    2  \n",
              "990                    2  \n",
              "991                    2  \n",
              "992                    2  \n",
              "993                    2  \n",
              "\n",
              "[994 rows x 12 columns]"
            ],
            "text/html": [
              "\n",
              "  <div id=\"df-bed65e22-bf68-42b6-9b88-de1c6139164d\">\n",
              "    <div class=\"colab-df-container\">\n",
              "      <div>\n",
              "<style scoped>\n",
              "    .dataframe tbody tr th:only-of-type {\n",
              "        vertical-align: middle;\n",
              "    }\n",
              "\n",
              "    .dataframe tbody tr th {\n",
              "        vertical-align: top;\n",
              "    }\n",
              "\n",
              "    .dataframe thead th {\n",
              "        text-align: right;\n",
              "    }\n",
              "</style>\n",
              "<table border=\"1\" class=\"dataframe\">\n",
              "  <thead>\n",
              "    <tr style=\"text-align: right;\">\n",
              "      <th></th>\n",
              "      <th>image_name</th>\n",
              "      <th>steer</th>\n",
              "      <th>throttle</th>\n",
              "      <th>brake</th>\n",
              "      <th>speed</th>\n",
              "      <th>x</th>\n",
              "      <th>y</th>\n",
              "      <th>z</th>\n",
              "      <th>yaw</th>\n",
              "      <th>speed_limit</th>\n",
              "      <th>is_traffic_light</th>\n",
              "      <th>traffic_light_state</th>\n",
              "    </tr>\n",
              "  </thead>\n",
              "  <tbody>\n",
              "    <tr>\n",
              "      <th>0</th>\n",
              "      <td>2022-03-23_16-52-23_114.jpg</td>\n",
              "      <td>0.000000</td>\n",
              "      <td>0.000000</td>\n",
              "      <td>0.0</td>\n",
              "      <td>0.000000</td>\n",
              "      <td>-3.680001</td>\n",
              "      <td>270.729950</td>\n",
              "      <td>0.221564</td>\n",
              "      <td>-89.999817</td>\n",
              "      <td>30.0</td>\n",
              "      <td>False</td>\n",
              "      <td>2</td>\n",
              "    </tr>\n",
              "    <tr>\n",
              "      <th>1</th>\n",
              "      <td>2022-03-23_16-52-23_115.jpg</td>\n",
              "      <td>0.000000</td>\n",
              "      <td>0.000000</td>\n",
              "      <td>0.0</td>\n",
              "      <td>0.000000</td>\n",
              "      <td>-3.680001</td>\n",
              "      <td>270.729950</td>\n",
              "      <td>0.221564</td>\n",
              "      <td>-89.999817</td>\n",
              "      <td>30.0</td>\n",
              "      <td>False</td>\n",
              "      <td>2</td>\n",
              "    </tr>\n",
              "    <tr>\n",
              "      <th>2</th>\n",
              "      <td>2022-03-23_16-52-23_116.jpg</td>\n",
              "      <td>0.000000</td>\n",
              "      <td>0.000000</td>\n",
              "      <td>0.0</td>\n",
              "      <td>0.000000</td>\n",
              "      <td>-3.680001</td>\n",
              "      <td>270.729950</td>\n",
              "      <td>0.221564</td>\n",
              "      <td>-89.999817</td>\n",
              "      <td>30.0</td>\n",
              "      <td>False</td>\n",
              "      <td>2</td>\n",
              "    </tr>\n",
              "    <tr>\n",
              "      <th>3</th>\n",
              "      <td>2022-03-23_16-52-23_117.jpg</td>\n",
              "      <td>0.077474</td>\n",
              "      <td>0.850000</td>\n",
              "      <td>0.0</td>\n",
              "      <td>0.001634</td>\n",
              "      <td>-3.680001</td>\n",
              "      <td>270.729950</td>\n",
              "      <td>0.221467</td>\n",
              "      <td>-89.999817</td>\n",
              "      <td>30.0</td>\n",
              "      <td>False</td>\n",
              "      <td>2</td>\n",
              "    </tr>\n",
              "    <tr>\n",
              "      <th>4</th>\n",
              "      <td>2022-03-23_16-52-23_118.jpg</td>\n",
              "      <td>0.077474</td>\n",
              "      <td>0.850000</td>\n",
              "      <td>0.0</td>\n",
              "      <td>0.000302</td>\n",
              "      <td>-3.680001</td>\n",
              "      <td>270.729950</td>\n",
              "      <td>0.221424</td>\n",
              "      <td>-89.999817</td>\n",
              "      <td>30.0</td>\n",
              "      <td>False</td>\n",
              "      <td>2</td>\n",
              "    </tr>\n",
              "    <tr>\n",
              "      <th>...</th>\n",
              "      <td>...</td>\n",
              "      <td>...</td>\n",
              "      <td>...</td>\n",
              "      <td>...</td>\n",
              "      <td>...</td>\n",
              "      <td>...</td>\n",
              "      <td>...</td>\n",
              "      <td>...</td>\n",
              "      <td>...</td>\n",
              "      <td>...</td>\n",
              "      <td>...</td>\n",
              "      <td>...</td>\n",
              "    </tr>\n",
              "    <tr>\n",
              "      <th>989</th>\n",
              "      <td>2022-03-23_16-52-23_1103.jpg</td>\n",
              "      <td>-0.000622</td>\n",
              "      <td>0.808007</td>\n",
              "      <td>0.0</td>\n",
              "      <td>7.097985</td>\n",
              "      <td>-3.449877</td>\n",
              "      <td>204.181442</td>\n",
              "      <td>0.221513</td>\n",
              "      <td>-90.016182</td>\n",
              "      <td>30.0</td>\n",
              "      <td>False</td>\n",
              "      <td>2</td>\n",
              "    </tr>\n",
              "    <tr>\n",
              "      <th>990</th>\n",
              "      <td>2022-03-23_16-52-23_1104.jpg</td>\n",
              "      <td>-0.000622</td>\n",
              "      <td>0.808007</td>\n",
              "      <td>0.0</td>\n",
              "      <td>7.353311</td>\n",
              "      <td>-3.450036</td>\n",
              "      <td>203.885040</td>\n",
              "      <td>0.221497</td>\n",
              "      <td>-90.020142</td>\n",
              "      <td>30.0</td>\n",
              "      <td>False</td>\n",
              "      <td>2</td>\n",
              "    </tr>\n",
              "    <tr>\n",
              "      <th>991</th>\n",
              "      <td>2022-03-23_16-52-23_1105.jpg</td>\n",
              "      <td>-0.000622</td>\n",
              "      <td>0.808007</td>\n",
              "      <td>0.0</td>\n",
              "      <td>7.594528</td>\n",
              "      <td>-3.450235</td>\n",
              "      <td>203.556229</td>\n",
              "      <td>0.221479</td>\n",
              "      <td>-90.024406</td>\n",
              "      <td>30.0</td>\n",
              "      <td>False</td>\n",
              "      <td>2</td>\n",
              "    </tr>\n",
              "    <tr>\n",
              "      <th>992</th>\n",
              "      <td>2022-03-23_16-52-23_1106.jpg</td>\n",
              "      <td>0.019869</td>\n",
              "      <td>0.000000</td>\n",
              "      <td>0.7</td>\n",
              "      <td>7.821633</td>\n",
              "      <td>-3.447557</td>\n",
              "      <td>202.913574</td>\n",
              "      <td>0.221503</td>\n",
              "      <td>-89.882812</td>\n",
              "      <td>30.0</td>\n",
              "      <td>False</td>\n",
              "      <td>2</td>\n",
              "    </tr>\n",
              "    <tr>\n",
              "      <th>993</th>\n",
              "      <td>2022-03-23_16-52-23_1107.jpg</td>\n",
              "      <td>0.019869</td>\n",
              "      <td>0.000000</td>\n",
              "      <td>0.7</td>\n",
              "      <td>7.823108</td>\n",
              "      <td>-3.444577</td>\n",
              "      <td>202.559921</td>\n",
              "      <td>0.221560</td>\n",
              "      <td>-89.757561</td>\n",
              "      <td>30.0</td>\n",
              "      <td>False</td>\n",
              "      <td>2</td>\n",
              "    </tr>\n",
              "  </tbody>\n",
              "</table>\n",
              "<p>994 rows × 12 columns</p>\n",
              "</div>\n",
              "      <button class=\"colab-df-convert\" onclick=\"convertToInteractive('df-bed65e22-bf68-42b6-9b88-de1c6139164d')\"\n",
              "              title=\"Convert this dataframe to an interactive table.\"\n",
              "              style=\"display:none;\">\n",
              "        \n",
              "  <svg xmlns=\"http://www.w3.org/2000/svg\" height=\"24px\"viewBox=\"0 0 24 24\"\n",
              "       width=\"24px\">\n",
              "    <path d=\"M0 0h24v24H0V0z\" fill=\"none\"/>\n",
              "    <path d=\"M18.56 5.44l.94 2.06.94-2.06 2.06-.94-2.06-.94-.94-2.06-.94 2.06-2.06.94zm-11 1L8.5 8.5l.94-2.06 2.06-.94-2.06-.94L8.5 2.5l-.94 2.06-2.06.94zm10 10l.94 2.06.94-2.06 2.06-.94-2.06-.94-.94-2.06-.94 2.06-2.06.94z\"/><path d=\"M17.41 7.96l-1.37-1.37c-.4-.4-.92-.59-1.43-.59-.52 0-1.04.2-1.43.59L10.3 9.45l-7.72 7.72c-.78.78-.78 2.05 0 2.83L4 21.41c.39.39.9.59 1.41.59.51 0 1.02-.2 1.41-.59l7.78-7.78 2.81-2.81c.8-.78.8-2.07 0-2.86zM5.41 20L4 18.59l7.72-7.72 1.47 1.35L5.41 20z\"/>\n",
              "  </svg>\n",
              "      </button>\n",
              "      \n",
              "  <style>\n",
              "    .colab-df-container {\n",
              "      display:flex;\n",
              "      flex-wrap:wrap;\n",
              "      gap: 12px;\n",
              "    }\n",
              "\n",
              "    .colab-df-convert {\n",
              "      background-color: #E8F0FE;\n",
              "      border: none;\n",
              "      border-radius: 50%;\n",
              "      cursor: pointer;\n",
              "      display: none;\n",
              "      fill: #1967D2;\n",
              "      height: 32px;\n",
              "      padding: 0 0 0 0;\n",
              "      width: 32px;\n",
              "    }\n",
              "\n",
              "    .colab-df-convert:hover {\n",
              "      background-color: #E2EBFA;\n",
              "      box-shadow: 0px 1px 2px rgba(60, 64, 67, 0.3), 0px 1px 3px 1px rgba(60, 64, 67, 0.15);\n",
              "      fill: #174EA6;\n",
              "    }\n",
              "\n",
              "    [theme=dark] .colab-df-convert {\n",
              "      background-color: #3B4455;\n",
              "      fill: #D2E3FC;\n",
              "    }\n",
              "\n",
              "    [theme=dark] .colab-df-convert:hover {\n",
              "      background-color: #434B5C;\n",
              "      box-shadow: 0px 1px 3px 1px rgba(0, 0, 0, 0.15);\n",
              "      filter: drop-shadow(0px 1px 2px rgba(0, 0, 0, 0.3));\n",
              "      fill: #FFFFFF;\n",
              "    }\n",
              "  </style>\n",
              "\n",
              "      <script>\n",
              "        const buttonEl =\n",
              "          document.querySelector('#df-bed65e22-bf68-42b6-9b88-de1c6139164d button.colab-df-convert');\n",
              "        buttonEl.style.display =\n",
              "          google.colab.kernel.accessAllowed ? 'block' : 'none';\n",
              "\n",
              "        async function convertToInteractive(key) {\n",
              "          const element = document.querySelector('#df-bed65e22-bf68-42b6-9b88-de1c6139164d');\n",
              "          const dataTable =\n",
              "            await google.colab.kernel.invokeFunction('convertToInteractive',\n",
              "                                                     [key], {});\n",
              "          if (!dataTable) return;\n",
              "\n",
              "          const docLinkHtml = 'Like what you see? Visit the ' +\n",
              "            '<a target=\"_blank\" href=https://colab.research.google.com/notebooks/data_table.ipynb>data table notebook</a>'\n",
              "            + ' to learn more about interactive tables.';\n",
              "          element.innerHTML = '';\n",
              "          dataTable['output_type'] = 'display_data';\n",
              "          await google.colab.output.renderOutput(dataTable, element);\n",
              "          const docLink = document.createElement('div');\n",
              "          docLink.innerHTML = docLinkHtml;\n",
              "          element.appendChild(docLink);\n",
              "        }\n",
              "      </script>\n",
              "    </div>\n",
              "  </div>\n",
              "  "
            ]
          },
          "metadata": {},
          "execution_count": 10
        }
      ]
    },
    {
      "cell_type": "code",
      "source": [
        "coordinates = []\n",
        "controls_labels = []\n",
        "\n",
        "controls = []\n",
        "env_controls = []\n",
        "gps = []\n",
        "yaws = []\n",
        "image_names = []"
      ],
      "metadata": {
        "id": "BjX34hgmLwGF"
      },
      "execution_count": null,
      "outputs": []
    },
    {
      "cell_type": "code",
      "source": [
        "SKIP_START = 10\n",
        "FUTURE_FRAMES = 10\n",
        "\n",
        "\n",
        "for folder in tqdm(folders):\n",
        "    images = os.path.join(SRC, folder, 'images')\n",
        "    copy_tree(images, images_dir)\n",
        "\n",
        "    csv = os.path.join(SRC, folder, 'data.csv')\n",
        "    df = pd.read_csv(csv)\n",
        "    # remove the beginning frames\n",
        "    df = df.iloc[SKIP_START: , :]\n",
        "    length = df.shape[0]\n",
        "\n",
        "    # coordinates_ = df[['x', 'y', 'z']].to_numpy()\n",
        "    coordinates_ = df[['x', 'y']].to_numpy()\n",
        "    controls_ = df[['steer', 'throttle', 'brake', 'speed']].to_numpy()\n",
        "    env_controls_ = df[['speed_limit', 'is_traffic_light', 'traffic_light_state']].to_numpy().astype(float)\n",
        "    image_names_ = df['image_name'].to_numpy()\n",
        "    yaws_ = df['yaw'].to_numpy()\n",
        "\n",
        "    for i in range(1, length - FUTURE_FRAMES):\n",
        "        controls.append(controls_[i-1])\n",
        "        controls_labels.append(controls_[i])\n",
        "        coordinates.append(coordinates_[i:i+FUTURE_FRAMES])\n",
        "        env_controls.append(env_controls_[i])\n",
        "        yaws.append(yaws_[i])\n",
        "        image_names.append(image_names_[i])\n",
        "        # gps.append()\n",
        "\n",
        "    shutil.rmtree(os.path.join(SRC, folder), ignore_errors=True)"
      ],
      "metadata": {
        "id": "ndANk_Y-ArAh"
      },
      "execution_count": null,
      "outputs": []
    },
    {
      "cell_type": "code",
      "source": [
        "controls = np.array(controls)\n",
        "controls_labels = np.array(controls_labels)\n",
        "coordinates = np.array(coordinates)\n",
        "env_controls = np.array(env_controls)\n",
        "yaws = np.array(yaws)\n",
        "image_names = np.array(image_names)"
      ],
      "metadata": {
        "id": "ga4eczhD_5Cm"
      },
      "execution_count": null,
      "outputs": []
    },
    {
      "cell_type": "code",
      "source": [
        "assert controls.shape[0] == controls_labels.shape[0] == coordinates.shape[0] == env_controls.shape[0] == yaws.shape[0] == image_names.shape[0]"
      ],
      "metadata": {
        "id": "OqeUoZDJLZ5J"
      },
      "execution_count": null,
      "outputs": []
    },
    {
      "cell_type": "code",
      "source": [
        "controls.shape, controls_labels.shape, coordinates.shape, env_controls.shape, yaws.shape, image_names.shape"
      ],
      "metadata": {
        "id": "k6TupllsqmKb"
      },
      "execution_count": null,
      "outputs": []
    },
    {
      "cell_type": "code",
      "source": [
        "DATA_SIZE = controls.shape[0]\n",
        "PARTS_LEN = 10_000"
      ],
      "metadata": {
        "id": "7yGp0hLRAbuE"
      },
      "execution_count": null,
      "outputs": []
    },
    {
      "cell_type": "code",
      "source": [
        "indexes = np.arange(DATA_SIZE)\n",
        "np.random.shuffle(indexes)\n",
        "print(indexes.shape)\n",
        "parts = np.array_split(indexes, DATA_SIZE//PARTS_LEN)"
      ],
      "metadata": {
        "id": "zjg_kr0ZM7_i"
      },
      "execution_count": null,
      "outputs": []
    },
    {
      "cell_type": "code",
      "source": [
        "parts[2].shape"
      ],
      "metadata": {
        "id": "s8kfEPtlOjZw"
      },
      "execution_count": null,
      "outputs": []
    },
    {
      "cell_type": "code",
      "source": [
        "os.mkdir(DEST, 0o777)\n",
        "\n",
        "for i, p in enumerate(parts):\n",
        "    part_folder = os.path.join(DEST, str(i))\n",
        "    os.mkdir(part_folder)\n",
        "\n",
        "    controls_p = controls[p]\n",
        "    controls_labels_p = controls_labels[p]\n",
        "    coordinates_p = coordinates[p]\n",
        "    env_controls_p = env_controls[p]\n",
        "    yaws_p = yaws[p]\n",
        "\n",
        "    names = image_names[p]\n",
        "    images_p = np.empty((names.shape[0], *IMAGE_SHAPE), dtype=np.uint8)\n",
        "\n",
        "    for ind, img_name in enumerate(names):\n",
        "        image_src = os.path.join(SRC, 'images', img_name)\n",
        "        image = Image.open(image_src)\n",
        "        images_p[ind] = np.array(image, dtype=np.uint8)[:, :, 0:3]\n",
        "\n",
        "    np.save(os.path.join(part_folder, 'controls'), controls_p)\n",
        "    np.save(os.path.join(part_folder, 'controls_labels'), controls_labels_p)\n",
        "    np.save(os.path.join(part_folder, 'coordinates'), coordinates_p)\n",
        "    np.save(os.path.join(part_folder, 'env_controls'), env_controls_p)\n",
        "    np.save(os.path.join(part_folder, 'yaws'), yaws_p)\n",
        "    np.save(os.path.join(part_folder, 'images'), images_p)"
      ],
      "metadata": {
        "id": "AN_nm9kLQBL6"
      },
      "execution_count": null,
      "outputs": []
    },
    {
      "cell_type": "code",
      "source": [
        "! du -sh ./CarlaDS"
      ],
      "metadata": {
        "id": "o0mHU48qCd4s"
      },
      "execution_count": null,
      "outputs": []
    },
    {
      "cell_type": "code",
      "source": [
        "generated_data = './CarlaDS/0'"
      ],
      "metadata": {
        "id": "M0kvLHorCnJL"
      },
      "execution_count": null,
      "outputs": []
    }
  ]
}